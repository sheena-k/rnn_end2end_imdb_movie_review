{
 "cells": [
  {
   "cell_type": "code",
   "execution_count": 1,
   "id": "7c6967c8",
   "metadata": {},
   "outputs": [],
   "source": [
    "from tensorflow.keras.preprocessing.text import one_hot"
   ]
  },
  {
   "cell_type": "code",
   "execution_count": 2,
   "id": "fdf62f54",
   "metadata": {},
   "outputs": [],
   "source": [
    "##Example sentence\n",
    "sent =[\n",
    "    'I am good',\n",
    "    'I am a good developer',\n",
    "    'Machine learning and Deep learning',\n",
    "    'Predictive analytics',\n",
    "    'classification and regression',\n",
    "    'Gen AI',\n",
    "    'Update with latest technology trends',\n",
    "    'AI is emerging',\n",
    "]"
   ]
  },
  {
   "cell_type": "code",
   "execution_count": 3,
   "id": "ce3626c4",
   "metadata": {},
   "outputs": [],
   "source": [
    "## Define vocabulary size\n",
    "voc_size =10000\n"
   ]
  },
  {
   "cell_type": "code",
   "execution_count": 4,
   "id": "abe0efc5",
   "metadata": {},
   "outputs": [
    {
     "data": {
      "text/plain": [
       "[[3469, 7485, 2253],\n",
       " [3469, 7485, 2286, 2253, 8377],\n",
       " [3676, 6439, 9409, 5710, 6439],\n",
       " [1588, 7584],\n",
       " [3752, 9409, 9778],\n",
       " [1510, 9040],\n",
       " [6544, 9674, 7377, 4940, 1153],\n",
       " [9040, 9516, 5532]]"
      ]
     },
     "execution_count": 4,
     "metadata": {},
     "output_type": "execute_result"
    }
   ],
   "source": [
    "## One hot Representation\n",
    "one_hot_rep = [one_hot(words,voc_size) for words in sent]\n",
    "one_hot_rep"
   ]
  },
  {
   "cell_type": "code",
   "execution_count": 5,
   "id": "8db70bad",
   "metadata": {},
   "outputs": [],
   "source": [
    "#word embedding representation\n",
    "from tensorflow.keras.layers import Embedding,Input\n",
    "#from tensorflow.keras.preprocessing.sequence import pad_sequences\n",
    "from tensorflow.keras.utils import pad_sequences"
   ]
  },
  {
   "cell_type": "markdown",
   "id": "02224f03",
   "metadata": {},
   "source": [
    "\n",
    "\n",
    "\n",
    "\n",
    "\n",
    "\n",
    "\n",
    "\n",
    "\n"
   ]
  },
  {
   "cell_type": "code",
   "execution_count": 6,
   "id": "efbdee80",
   "metadata": {},
   "outputs": [],
   "source": [
    "from tensorflow.keras.models import Sequential"
   ]
  },
  {
   "cell_type": "code",
   "execution_count": 7,
   "id": "23315e61",
   "metadata": {},
   "outputs": [],
   "source": [
    "import numpy as np"
   ]
  },
  {
   "cell_type": "code",
   "execution_count": 8,
   "id": "ae84c77a",
   "metadata": {},
   "outputs": [],
   "source": [
    "sent_length=5"
   ]
  },
  {
   "cell_type": "code",
   "execution_count": 9,
   "id": "322f99a7",
   "metadata": {},
   "outputs": [],
   "source": [
    "embedded_docs= pad_sequences(one_hot_rep,padding=\"post\",maxlen=sent_length)"
   ]
  },
  {
   "cell_type": "code",
   "execution_count": 10,
   "id": "396febe4",
   "metadata": {},
   "outputs": [
    {
     "name": "stdout",
     "output_type": "stream",
     "text": [
      "[[3469 7485 2253    0    0]\n",
      " [3469 7485 2286 2253 8377]\n",
      " [3676 6439 9409 5710 6439]\n",
      " [1588 7584    0    0    0]\n",
      " [3752 9409 9778    0    0]\n",
      " [1510 9040    0    0    0]\n",
      " [6544 9674 7377 4940 1153]\n",
      " [9040 9516 5532    0    0]]\n"
     ]
    }
   ],
   "source": [
    "print(embedded_docs)"
   ]
  },
  {
   "cell_type": "code",
   "execution_count": 11,
   "id": "9545a76d",
   "metadata": {},
   "outputs": [],
   "source": [
    "#feature representation\n",
    "dim=8"
   ]
  },
  {
   "cell_type": "code",
   "execution_count": 12,
   "id": "fc65e0df",
   "metadata": {},
   "outputs": [],
   "source": [
    "model=Sequential([\n",
    "    #nput(shape=(5,)),\n",
    "    Embedding(input_dim=voc_size,output_dim=dim)\n",
    "])\n",
    "  \n",
    "model.compile('adam','mse')"
   ]
  },
  {
   "cell_type": "code",
   "execution_count": 13,
   "id": "324fc56b",
   "metadata": {},
   "outputs": [
    {
     "name": "stdout",
     "output_type": "stream",
     "text": [
      "\u001b[1m1/1\u001b[0m \u001b[32m━━━━━━━━━━━━━━━━━━━━\u001b[0m\u001b[37m\u001b[0m \u001b[1m0s\u001b[0m 114ms/step\n"
     ]
    },
    {
     "data": {
      "text/plain": [
       "array([[ 4.2142119e-02,  1.0093521e-02,  8.6225569e-05,  5.4691918e-03,\n",
       "        -7.9863146e-04,  4.4859480e-02, -1.0423481e-02, -4.7355462e-02],\n",
       "       [-1.2079965e-02,  2.4370775e-03,  2.2021305e-02,  4.3871436e-02,\n",
       "         1.3496269e-02, -4.4635892e-02, -2.2418333e-02, -2.4119616e-03],\n",
       "       [-3.5497595e-02, -3.4543622e-02,  2.3350302e-02, -2.6789917e-02,\n",
       "        -5.7684667e-03,  8.9240298e-03,  7.0931688e-03,  2.9348258e-02],\n",
       "       [-1.3045788e-02, -4.5560252e-02, -2.7289167e-03, -4.3274987e-02,\n",
       "         1.7294120e-02,  2.8015200e-02, -2.3316598e-02,  1.2307536e-02],\n",
       "       [-1.3045788e-02, -4.5560252e-02, -2.7289167e-03, -4.3274987e-02,\n",
       "         1.7294120e-02,  2.8015200e-02, -2.3316598e-02,  1.2307536e-02]],\n",
       "      dtype=float32)"
      ]
     },
     "execution_count": 13,
     "metadata": {},
     "output_type": "execute_result"
    }
   ],
   "source": [
    "model.predict(embedded_docs[0])"
   ]
  },
  {
   "cell_type": "code",
   "execution_count": null,
   "id": "068e2881",
   "metadata": {},
   "outputs": [],
   "source": []
  },
  {
   "cell_type": "code",
   "execution_count": 14,
   "id": "e4eb236e",
   "metadata": {},
   "outputs": [
    {
     "data": {
      "text/html": [
       "<pre style=\"white-space:pre;overflow-x:auto;line-height:normal;font-family:Menlo,'DejaVu Sans Mono',consolas,'Courier New',monospace\"><span style=\"font-weight: bold\">Model: \"sequential\"</span>\n",
       "</pre>\n"
      ],
      "text/plain": [
       "\u001b[1mModel: \"sequential\"\u001b[0m\n"
      ]
     },
     "metadata": {},
     "output_type": "display_data"
    },
    {
     "data": {
      "text/html": [
       "<pre style=\"white-space:pre;overflow-x:auto;line-height:normal;font-family:Menlo,'DejaVu Sans Mono',consolas,'Courier New',monospace\">┏━━━━━━━━━━━━━━━━━━━━━━━━━━━━━━━━━┳━━━━━━━━━━━━━━━━━━━━━━━━┳━━━━━━━━━━━━━━━┓\n",
       "┃<span style=\"font-weight: bold\"> Layer (type)                    </span>┃<span style=\"font-weight: bold\"> Output Shape           </span>┃<span style=\"font-weight: bold\">       Param # </span>┃\n",
       "┡━━━━━━━━━━━━━━━━━━━━━━━━━━━━━━━━━╇━━━━━━━━━━━━━━━━━━━━━━━━╇━━━━━━━━━━━━━━━┩\n",
       "│ embedding (<span style=\"color: #0087ff; text-decoration-color: #0087ff\">Embedding</span>)           │ (<span style=\"color: #00af00; text-decoration-color: #00af00\">5</span>, <span style=\"color: #00af00; text-decoration-color: #00af00\">8</span>)                 │        <span style=\"color: #00af00; text-decoration-color: #00af00\">80,000</span> │\n",
       "└─────────────────────────────────┴────────────────────────┴───────────────┘\n",
       "</pre>\n"
      ],
      "text/plain": [
       "┏━━━━━━━━━━━━━━━━━━━━━━━━━━━━━━━━━┳━━━━━━━━━━━━━━━━━━━━━━━━┳━━━━━━━━━━━━━━━┓\n",
       "┃\u001b[1m \u001b[0m\u001b[1mLayer (type)                   \u001b[0m\u001b[1m \u001b[0m┃\u001b[1m \u001b[0m\u001b[1mOutput Shape          \u001b[0m\u001b[1m \u001b[0m┃\u001b[1m \u001b[0m\u001b[1m      Param #\u001b[0m\u001b[1m \u001b[0m┃\n",
       "┡━━━━━━━━━━━━━━━━━━━━━━━━━━━━━━━━━╇━━━━━━━━━━━━━━━━━━━━━━━━╇━━━━━━━━━━━━━━━┩\n",
       "│ embedding (\u001b[38;5;33mEmbedding\u001b[0m)           │ (\u001b[38;5;34m5\u001b[0m, \u001b[38;5;34m8\u001b[0m)                 │        \u001b[38;5;34m80,000\u001b[0m │\n",
       "└─────────────────────────────────┴────────────────────────┴───────────────┘\n"
      ]
     },
     "metadata": {},
     "output_type": "display_data"
    },
    {
     "data": {
      "text/html": [
       "<pre style=\"white-space:pre;overflow-x:auto;line-height:normal;font-family:Menlo,'DejaVu Sans Mono',consolas,'Courier New',monospace\"><span style=\"font-weight: bold\"> Total params: </span><span style=\"color: #00af00; text-decoration-color: #00af00\">80,000</span> (312.50 KB)\n",
       "</pre>\n"
      ],
      "text/plain": [
       "\u001b[1m Total params: \u001b[0m\u001b[38;5;34m80,000\u001b[0m (312.50 KB)\n"
      ]
     },
     "metadata": {},
     "output_type": "display_data"
    },
    {
     "data": {
      "text/html": [
       "<pre style=\"white-space:pre;overflow-x:auto;line-height:normal;font-family:Menlo,'DejaVu Sans Mono',consolas,'Courier New',monospace\"><span style=\"font-weight: bold\"> Trainable params: </span><span style=\"color: #00af00; text-decoration-color: #00af00\">80,000</span> (312.50 KB)\n",
       "</pre>\n"
      ],
      "text/plain": [
       "\u001b[1m Trainable params: \u001b[0m\u001b[38;5;34m80,000\u001b[0m (312.50 KB)\n"
      ]
     },
     "metadata": {},
     "output_type": "display_data"
    },
    {
     "data": {
      "text/html": [
       "<pre style=\"white-space:pre;overflow-x:auto;line-height:normal;font-family:Menlo,'DejaVu Sans Mono',consolas,'Courier New',monospace\"><span style=\"font-weight: bold\"> Non-trainable params: </span><span style=\"color: #00af00; text-decoration-color: #00af00\">0</span> (0.00 B)\n",
       "</pre>\n"
      ],
      "text/plain": [
       "\u001b[1m Non-trainable params: \u001b[0m\u001b[38;5;34m0\u001b[0m (0.00 B)\n"
      ]
     },
     "metadata": {},
     "output_type": "display_data"
    }
   ],
   "source": [
    "model.summary()"
   ]
  },
  {
   "cell_type": "code",
   "execution_count": null,
   "id": "da18ecb8",
   "metadata": {},
   "outputs": [],
   "source": []
  }
 ],
 "metadata": {
  "kernelspec": {
   "display_name": "rnn_venv",
   "language": "python",
   "name": "python3"
  },
  "language_info": {
   "codemirror_mode": {
    "name": "ipython",
    "version": 3
   },
   "file_extension": ".py",
   "mimetype": "text/x-python",
   "name": "python",
   "nbconvert_exporter": "python",
   "pygments_lexer": "ipython3",
   "version": "3.11.4"
  }
 },
 "nbformat": 4,
 "nbformat_minor": 5
}
